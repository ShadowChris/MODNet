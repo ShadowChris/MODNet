{
 "cells": [
  {
   "cell_type": "markdown",
   "source": [
    "训练代码参考:\n",
    "https://github.com/ZHKKKe/MODNet/issues/200\n",
    "https://www.kaggle.com/code/daggerx/modnet/notebook\n",
    "预训练模型:\n",
    "https://drive.google.com/drive/folders/1umYmlCulvIFNaqPjwod1SayFmSRHziyR"
   ],
   "metadata": {
    "collapsed": false,
    "pycharm": {
     "name": "#%% md\n"
    }
   }
  },
  {
   "cell_type": "code",
   "execution_count": 1,
   "outputs": [],
   "source": [
    "import os\n",
    "import torch\n",
    "import shutil\n",
    "from torch.utils.data import Dataset\n",
    "from PIL import Image\n",
    "import numpy as np\n",
    "import pandas as pd\n",
    "from scipy.ndimage.morphology import grey_dilation, grey_erosion\n",
    "import torch.nn.functional as F\n",
    "import torchvision.transforms as transforms\n",
    "from scipy.ndimage import morphology\n",
    "import cv2\n",
    "from torch.utils.data import DataLoader\n",
    "from src.models.modnet import MODNet\n",
    "from src.trainer import supervised_training_iter\n",
    "from tqdm import tqdm\n",
    "import time\n",
    "import fiftyone as fo"
   ],
   "metadata": {
    "collapsed": false,
    "pycharm": {
     "name": "#%%\n"
    }
   }
  },
  {
   "cell_type": "code",
   "execution_count": 2,
   "outputs": [
    {
     "name": "stdout",
     "output_type": "stream",
     "text": [
      "D:\\Projects\\MODNet\n"
     ]
    }
   ],
   "source": [
    "os.chdir(\"../..\")\n",
    "print(os.getcwd())\n",
    "# dataset_path = \"datasets/objects\"\n",
    "dataset_path = \"datasets/open-images-v7/train\"\n",
    "ckpt_path = \"pretrained/modnet_photographic_portrait_matting.ckpt\""
   ],
   "metadata": {
    "collapsed": false,
    "pycharm": {
     "name": "#%%\n"
    }
   }
  },
  {
   "cell_type": "code",
   "execution_count": 47,
   "outputs": [
    {
     "name": "stdout",
     "output_type": "stream",
     "text": [
      "Downloading split 'train' to 'D:\\Projects\\MODNet\\datasets\\open-images-v7\\train' if necessary\n",
      "Found 100 images, downloading the remaining 900\n",
      " 100% |███████████████████| 900/900 [4.0m elapsed, 0s remaining, 1.7 files/s]      \n",
      "Dataset info written to 'D:\\Projects\\MODNet\\datasets\\open-images-v7\\info.json'\n",
      "Loading 'open-images-v7' split 'train'\n",
      " 100% |███████████████| 1000/1000 [2.1m elapsed, 0s remaining, 12.8 samples/s]      \n",
      "Dataset 'open-images-v7-train-1000' created\n"
     ]
    }
   ],
   "source": [
    "fo.config.dataset_zoo_dir = r\"D:\\Projects\\MODNet\\datasets\"\n",
    "trainset = fo.zoo.load_zoo_dataset(\n",
    "              \"open-images-v7\",\n",
    "              split=\"train\",\n",
    "              label_types=[\"segmentations\"],\n",
    "              classes=[\"Bottle\",\"Dress\",\"Skirt\",\"Swimwear\",\"Miniskirt\"],\n",
    "              max_samples=1000,\n",
    "          )"
   ],
   "metadata": {
    "collapsed": false,
    "pycharm": {
     "name": "#%%\n"
    }
   }
  },
  {
   "cell_type": "code",
   "execution_count": 80,
   "outputs": [
    {
     "data": {
      "text/plain": "Dataset:     open-images-v7-train-1000\nMedia type:  image\nNum samples: 198\nSample fields:\n    id:           fiftyone.core.fields.ObjectIdField\n    filepath:     fiftyone.core.fields.StringField\n    tags:         fiftyone.core.fields.ListField(fiftyone.core.fields.StringField)\n    metadata:     fiftyone.core.fields.EmbeddedDocumentField(fiftyone.core.metadata.ImageMetadata)\n    ground_truth: fiftyone.core.fields.EmbeddedDocumentField(fiftyone.core.labels.Detections)\nView stages:\n    1. Match(filter={'$expr': {'$setIsSubset': [...]}})"
     },
     "execution_count": 80,
     "metadata": {},
     "output_type": "execute_result"
    }
   ],
   "source": [
    "from fiftyone import ViewField as vf\n",
    "trainset_view = trainset.match(\n",
    "    vf(\"ground_truth.detections.label\").is_subset(\n",
    "        [\"Dress\"]\n",
    "    )\n",
    ")\n",
    "trainset_view"
   ],
   "metadata": {
    "collapsed": false,
    "pycharm": {
     "name": "#%%\n"
    }
   }
  },
  {
   "cell_type": "code",
   "execution_count": 51,
   "outputs": [
    {
     "data": {
      "text/plain": "<SampleView: {\n    'id': '642be765450f8cb9d9047e5d',\n    'media_type': 'image',\n    'filepath': 'D:\\\\Projects\\\\MODNet\\\\datasets\\\\open-images-v7\\\\train\\\\data\\\\00002b368e91b947.jpg',\n    'tags': ['train'],\n    'metadata': None,\n    'ground_truth': <Detections: {\n\n        'detections': [\n\n            <Detection: {\n\n\n                'id': '642be765450f8cb9d9047e58',\n\n\n                'attributes': {},\n\n\n                'tags': [],\n\n\n                'label': 'Miniskirt',\n\n\n                'bounding_box': [0.095, 0.683121, 0.261, 0.315287],\n\n\n                'mask': array([[False, False, False, ..., False, False, False],\n\n\n                       [False, False, False, ..., False, False, False],\n\n\n                       [False, False, False, ..., False, False, False],\n\n\n                       ...,\n\n\n                       [False, False, False, ...,  True,  True,  True],\n\n\n                       [False, False, False, ...,  True,  True,  True],\n\n\n                       [False, False, False, ...,  True,  True,  True]]),\n\n\n                'confidence': None,\n\n\n                'index': None,\n\n\n            }>,\n\n            <Detection: {\n\n\n                'id': '642be765450f8cb9d9047e59',\n\n\n                'attributes': {},\n\n\n                'tags': [],\n\n\n                'label': 'Miniskirt',\n\n\n                'bounding_box': [0.454, 0.449045, 0.05099999999999999, 0.143312],\n\n\n                'mask': array([[False, False, False, ..., False, False, False],\n\n\n                       [False, False, False, ..., False, False, False],\n\n\n                       [False, False, False, ..., False, False, False],\n\n\n                       ...,\n\n\n                       [False, False, False, ..., False, False, False],\n\n\n                       [False, False, False, ..., False, False, False],\n\n\n                       [False, False, False, ..., False, False, False]]),\n\n\n                'confidence': None,\n\n\n                'index': None,\n\n\n            }>,\n\n            <Detection: {\n\n\n                'id': '642be765450f8cb9d9047e5a',\n\n\n                'attributes': {},\n\n\n                'tags': [],\n\n\n                'label': 'Miniskirt',\n\n\n                'bounding_box': [0.662, 0.515924, 0.12, 0.2547769999999999],\n\n\n                'mask': array([[False, False, False, ..., False, False, False],\n\n\n                       [False, False, False, ..., False, False, False],\n\n\n                       [False, False, False, ..., False, False, False],\n\n\n                       ...,\n\n\n                       [False, False, False, ..., False, False, False],\n\n\n                       [False, False, False, ..., False, False, False],\n\n\n                       [False, False, False, ..., False, False, False]]),\n\n\n                'confidence': None,\n\n\n                'index': None,\n\n\n            }>,\n\n            <Detection: {\n\n\n                'id': '642be765450f8cb9d9047e5b',\n\n\n                'attributes': {},\n\n\n                'tags': [],\n\n\n                'label': 'Miniskirt',\n\n\n                'bounding_box': [\n\n\n                    0.446,\n\n\n                    0.622611,\n\n\n                    0.21200000000000002,\n\n\n                    0.29936399999999996,\n\n\n                ],\n\n\n                'mask': array([[False, False, False, ..., False, False, False],\n\n\n                       [False, False, False, ..., False, False, False],\n\n\n                       [False, False, False, ..., False, False, False],\n\n\n                       ...,\n\n\n                       [False, False, False, ..., False, False, False],\n\n\n                       [False, False, False, ..., False, False, False],\n\n\n                       [False, False, False, ..., False, False, False]]),\n\n\n                'confidence': None,\n\n\n                'index': None,\n\n\n            }>,\n\n            <Detection: {\n\n\n                'id': '642be765450f8cb9d9047e5c',\n\n\n                'attributes': {},\n\n\n                'tags': [],\n\n\n                'label': 'Miniskirt',\n\n\n                'bounding_box': [\n\n\n                    0.777,\n\n\n                    0.496815,\n\n\n                    0.10699999999999998,\n\n\n                    0.17356700000000003,\n\n\n                ],\n\n\n                'mask': array([[False, False, False, ..., False, False, False],\n\n\n                       [False, False, False, ..., False, False, False],\n\n\n                       [False, False, False, ..., False, False, False],\n\n\n                       ...,\n\n\n                       [False, False, False, ..., False, False, False],\n\n\n                       [False, False, False, ..., False, False, False],\n\n\n                       [False, False, False, ..., False, False, False]]),\n\n\n                'confidence': None,\n\n\n                'index': None,\n\n\n            }>,\n\n        ],\n\n    }>,\n}>"
     },
     "execution_count": 51,
     "metadata": {},
     "output_type": "execute_result"
    }
   ],
   "source": [
    "trainset_view.first()"
   ],
   "metadata": {
    "collapsed": false,
    "pycharm": {
     "name": "#%%\n"
    }
   }
  },
  {
   "cell_type": "code",
   "execution_count": 3,
   "outputs": [
    {
     "name": "stdout",
     "output_type": "stream",
     "text": [
      "<function cv2plt at 0x0000018F7FA29158>\n"
     ]
    }
   ],
   "source": [
    "def cv2_imshow(image):\n",
    "\n",
    "    # image = cv2.resize(image, (720, 480))\n",
    "\n",
    "    cv2.imshow(\"img\", image)\n",
    "    #  add below code\n",
    "    cv2.waitKey(0)\n",
    "    cv2.destroyAllWindows()\n",
    "\n",
    "import matplotlib\n",
    "import matplotlib.pyplot as plt\n",
    "def cv2plt(img):\n",
    "    plt.figure(figsize=(7,7))        # To change the size of figure\n",
    "    plt.axis('off')\n",
    "    if np.size(img.shape) == 3:\n",
    "        plt.imshow(cv2.cvtColor(img,cv2.COLOR_BGR2RGB))\n",
    "    else:\n",
    "        plt.imshow(img,cmap='gray',vmin=0,vmax=255)\n",
    "    plt.show()\n",
    "\n",
    "print(cv2plt)"
   ],
   "metadata": {
    "collapsed": false,
    "pycharm": {
     "name": "#%%\n"
    }
   }
  },
  {
   "cell_type": "code",
   "execution_count": 116,
   "outputs": [
    {
     "data": {
      "text/plain": "<IPython.lib.display.IFrame at 0x1fa9a40ef88>",
      "text/html": "\n        <iframe\n            width=\"100%\"\n            height=\"800\"\n            src=\"http://localhost:5151/?notebook=True&subscription=a1b5fc4b-b7b0-4a6a-8b96-5b542afa7c07\"\n            frameborder=\"0\"\n            allowfullscreen\n            \n        ></iframe>\n        "
     },
     "metadata": {},
     "output_type": "display_data"
    }
   ],
   "source": [
    "session = fo.launch_app(trainset_view)"
   ],
   "metadata": {
    "collapsed": false,
    "pycharm": {
     "name": "#%%\n"
    }
   }
  },
  {
   "cell_type": "code",
   "execution_count": 127,
   "outputs": [],
   "source": [
    "import fiftyone as fo\n",
    "import torch\n",
    "from torch.utils.data import Dataset, DataLoader\n",
    "from torchvision.transforms import transforms\n",
    "\n",
    "\n",
    "class OpenImagesDataset(Dataset):\n",
    "    def __init__(self, dataset, resize_dim, transform=None):\n",
    "        self.samples = dataset\n",
    "        self.transform = transform\n",
    "        self.resize_dim = resize_dim\n",
    "        self.img_paths = self.samples.values(\"filepath\")\n",
    "\n",
    "    def __len__(self):\n",
    "        return len(self.samples)\n",
    "\n",
    "    def get_trimap(self, alpha):\n",
    "        # alpha \\in [0, 1] should be taken into account\n",
    "        # be careful when dealing with regions of alpha=0 and alpha=1\n",
    "        fg = np.array(np.equal(alpha, 255).astype(np.float32))\n",
    "        unknown = np.array(np.not_equal(alpha, 0).astype(np.float32)) # unknown = alpha > 0\n",
    "        unknown = unknown - fg\n",
    "        # image dilation implemented by Euclidean distance transform\n",
    "        unknown = morphology.distance_transform_edt(unknown==0) <= np.random.randint(1, 20)\n",
    "        trimap = fg\n",
    "        trimap[unknown] = 0.5\n",
    "        return torch.unsqueeze(torch.from_numpy(trimap), dim=0)#.astype(np.uint8)\n",
    "\n",
    "    def _resize(self, img, trimap=False):\n",
    "        im = img[None, :, :, :]\n",
    "        ref_size = self.resize_dim\n",
    "\n",
    "        # resize image for input\n",
    "        im_b, im_c, im_h, im_w = im.shape\n",
    "        if max(im_h, im_w) < ref_size or min(im_h, im_w) > ref_size:\n",
    "            if im_w >= im_h:\n",
    "                im_rh = ref_size\n",
    "                im_rw = int(im_w / im_h * ref_size)\n",
    "            elif im_w < im_h:\n",
    "                im_rw = ref_size\n",
    "                im_rh = int(im_h / im_w * ref_size)\n",
    "        else:\n",
    "            im_rh = im_h\n",
    "            im_rw = im_w\n",
    "\n",
    "        im_rw = im_rw - im_rw % 32\n",
    "        im_rh = im_rh - im_rh % 32\n",
    "        if trimap == True:\n",
    "            im = F.interpolate(im, size=(im_rh, im_rw), mode='nearest')\n",
    "        else:\n",
    "            im = F.interpolate(im, size=(im_rh, im_rw), mode='area')\n",
    "        return im\n",
    "\n",
    "    def __getitem__(self, idx):\n",
    "        img_path = self.img_paths[idx]\n",
    "        sample = self.samples[img_path]\n",
    "        metadata = sample.metadata\n",
    "        masks = []\n",
    "        detections = sample[\"ground_truth\"].detections\n",
    "        for det in detections:\n",
    "            masks.append(det.mask)\n",
    "        mask = np.bitwise_or.reduce(masks)\n",
    "\n",
    "        # Load image\n",
    "        img = np.asarray(Image.open(img_path).convert(\"RGB\"))\n",
    "        img = Image.fromarray(img)\n",
    "        mask = Image.fromarray(mask)\n",
    "        # Apply transform if specified\n",
    "        if self.transform:\n",
    "            img = self.transform(img)\n",
    "            trimap = self.get_trimap(mask)\n",
    "            mask = self.transform(mask)\n",
    "\n",
    "        # Convert mask to torch tensor\n",
    "        # masks = torch.as_tensor(masks)\n",
    "        # img = torch.tensor(img, dtype=torch.float32)\n",
    "        #\n",
    "        # mask = torch.tensor(mask, dtype=torch.float32)\n",
    "        # trimap = torch.squeeze(trimap, 1)\n",
    "\n",
    "        img = self._resize(img)\n",
    "        mask = self._resize(mask)\n",
    "        trimap = self._resize(trimap, trimap=True)\n",
    "\n",
    "        img = torch.squeeze(img, 0)\n",
    "        mask = torch.squeeze(mask, 0)\n",
    "        trimap = torch.squeeze(trimap, 1)\n",
    "\n",
    "        return img, trimap, mask\n"
   ],
   "metadata": {
    "collapsed": false,
    "pycharm": {
     "name": "#%%\n"
    }
   }
  },
  {
   "cell_type": "code",
   "execution_count": 128,
   "outputs": [],
   "source": [
    "# torch_trainset = FiftyOneTorchDataset(trainset)\n",
    "\n",
    "transform = transforms.Compose([\n",
    "    transforms.Resize((224, 224)),\n",
    "    transforms.ToTensor(),\n",
    "    # transforms.Normalize(mean=[0.485, 0.456, 0.406],\n",
    "    #                      std=[0.229, 0.224, 0.225])\n",
    "])\n",
    "torch_trainset = OpenImagesDataset(trainset_view, 512, transform)"
   ],
   "metadata": {
    "collapsed": false,
    "pycharm": {
     "name": "#%%\n"
    }
   }
  },
  {
   "cell_type": "code",
   "execution_count": 129,
   "outputs": [
    {
     "name": "stdout",
     "output_type": "stream",
     "text": [
      "<SampleView: {\r\n",
      "    'id': '642be767450f8cb9d9047e90',\r\n",
      "    'media_type': 'image',\r\n",
      "    'filepath': 'D:\\\\Projects\\\\MODNet\\\\datasets\\\\open-images-v7\\\\train\\\\data\\\\000161230ca61936.jpg',\r\n",
      "    'tags': ['train'],\r\n",
      "    'metadata': None,\r\n",
      "    'ground_truth': <Detections: {\r\n",
      "        'detections': [\r\n",
      "            <Detection: {\r\n",
      "                'id': '642be767450f8cb9d9047e8d',\r\n",
      "                'attributes': {},\r\n",
      "                'tags': [],\r\n",
      "                'label': 'Dress',\r\n",
      "                'bounding_box': [0.181875, 0.477486, 0.224375, 0.5206379999999999],\r\n",
      "                'mask': array([[False, False, False, ..., False, False, False],\r\n",
      "                       [False, False, False, ..., False, False, False],\r\n",
      "                       [False, False, False, ..., False, False, False],\r\n",
      "                       ...,\r\n",
      "                       [False, False, False, ..., False, False, False],\r\n",
      "                       [False, False, False, ..., False, False, False],\r\n",
      "                       [False, False, False, ..., False, False, False]]),\r\n",
      "                'confidence': None,\r\n",
      "                'index': None,\r\n",
      "            }>,\r\n",
      "            <Detection: {\r\n",
      "                'id': '642be767450f8cb9d9047e8e',\r\n",
      "                'attributes': {},\r\n",
      "                'tags': [],\r\n",
      "                'label': 'Dress',\r\n",
      "                'bounding_box': [0.05875, 0.482176, 0.16, 0.516886],\r\n",
      "                'mask': array([[ True,  True,  True, ..., False, False, False],\r\n",
      "                       [ True,  True,  True, ..., False, False, False],\r\n",
      "                       [ True,  True,  True, ..., False, False, False],\r\n",
      "                       ...,\r\n",
      "                       [False, False, False, ..., False, False, False],\r\n",
      "                       [False, False, False, ..., False, False, False],\r\n",
      "                       [False, False, False, ..., False, False, False]]),\r\n",
      "                'confidence': None,\r\n",
      "                'index': None,\r\n",
      "            }>,\r\n",
      "            <Detection: {\r\n",
      "                'id': '642be767450f8cb9d9047e8f',\r\n",
      "                'attributes': {},\r\n",
      "                'tags': [],\r\n",
      "                'label': 'Dress',\r\n",
      "                'bounding_box': [\r\n",
      "                    0.74375,\r\n",
      "                    0.311445,\r\n",
      "                    0.24875000000000003,\r\n",
      "                    0.6876169999999999,\r\n",
      "                ],\r\n",
      "                'mask': array([[False, False, False, ..., False, False, False],\r\n",
      "                       [False, False, False, ..., False, False, False],\r\n",
      "                       [False, False, False, ..., False, False, False],\r\n",
      "                       ...,\r\n",
      "                       [False, False, False, ...,  True,  True,  True],\r\n",
      "                       [False, False, False, ...,  True,  True,  True],\r\n",
      "                       [False, False, False, ...,  True,  True,  True]]),\r\n",
      "                'confidence': None,\r\n",
      "                'index': None,\r\n",
      "            }>,\r\n",
      "        ],\r\n",
      "    }>,\r\n",
      "}>\n"
     ]
    }
   ],
   "source": [
    "print(trainset_view.first())"
   ],
   "metadata": {
    "collapsed": false,
    "pycharm": {
     "name": "#%%\n"
    }
   }
  },
  {
   "cell_type": "code",
   "execution_count": 5,
   "outputs": [],
   "source": [
    "class ModNetDataLoader(Dataset):\n",
    "    def __init__(self, annotations_file, resize_dim, transform=None):\n",
    "        self.img_labels =annotations_file\n",
    "        self.transform=transform\n",
    "        self.resize_dim=resize_dim\n",
    "\n",
    "    def __len__(self):\n",
    "        #return the total number of images\n",
    "        return len(self.img_labels)\n",
    "\n",
    "    def __getitem__(self, idx):\n",
    "        img_path = self.img_labels.iloc[idx,0]\n",
    "        mask_path = self.img_labels.iloc[idx,1]\n",
    "\n",
    "        img = np.asarray(Image.open(img_path))\n",
    "\n",
    "        in_image = cv2.imread(mask_path, cv2.IMREAD_UNCHANGED)\n",
    "        # cv2_imshow(in_image)\n",
    "\n",
    "        mask = in_image[:,:,3]\n",
    "\n",
    "        if len(img.shape)==2:\n",
    "            img = img[:,:,None]\n",
    "        if img.shape[2]==1:\n",
    "            img = np.repeat(img, 3, axis=2)\n",
    "        elif img.shape[2]==4:\n",
    "            img = img[:,:,0:3]\n",
    "\n",
    "        if len(mask.shape)==3:\n",
    "            mask = mask[:,:, 0]\n",
    "\n",
    "        #convert Image to pytorch tensor\n",
    "        img = Image.fromarray(img)\n",
    "        mask = Image.fromarray(mask)\n",
    "        if self.transform:\n",
    "            img = self.transform(img)\n",
    "            trimap = self.get_trimap(mask)\n",
    "            mask = self.transform(mask)\n",
    "\n",
    "        img = self._resize(img)\n",
    "        mask = self._resize(mask)\n",
    "        trimap = self._resize(trimap, trimap=True)\n",
    "\n",
    "        img = torch.squeeze(img, 0)\n",
    "        mask = torch.squeeze(mask, 0)\n",
    "        trimap = torch.squeeze(trimap, 1)\n",
    "\n",
    "        return img, trimap, mask\n",
    "\n",
    "    def get_trimap(self, alpha):\n",
    "        # alpha \\in [0, 1] should be taken into account\n",
    "        # be careful when dealing with regions of alpha=0 and alpha=1\n",
    "        fg = np.array(np.equal(alpha, 255).astype(np.float32))\n",
    "        unknown = np.array(np.not_equal(alpha, 0).astype(np.float32)) # unknown = alpha > 0\n",
    "        unknown = unknown - fg\n",
    "        # image dilation implemented by Euclidean distance transform\n",
    "        unknown = morphology.distance_transform_edt(unknown==0) <= np.random.randint(1, 20)\n",
    "        trimap = fg\n",
    "        trimap[unknown] = 0.5\n",
    "        return torch.unsqueeze(torch.from_numpy(trimap), dim=0)#.astype(np.uint8)\n",
    "\n",
    "    def _resize(self, img, trimap=False):\n",
    "        im = img[None, :, :, :]\n",
    "        ref_size = self.resize_dim\n",
    "\n",
    "        # resize image for input\n",
    "        im_b, im_c, im_h, im_w = im.shape\n",
    "        if max(im_h, im_w) < ref_size or min(im_h, im_w) > ref_size:\n",
    "            if im_w >= im_h:\n",
    "                im_rh = ref_size\n",
    "                im_rw = int(im_w / im_h * ref_size)\n",
    "            elif im_w < im_h:\n",
    "                im_rw = ref_size\n",
    "                im_rh = int(im_h / im_w * ref_size)\n",
    "        else:\n",
    "            im_rh = im_h\n",
    "            im_rw = im_w\n",
    "\n",
    "        im_rw = im_rw - im_rw % 32\n",
    "        im_rh = im_rh - im_rh % 32\n",
    "        if trimap == True:\n",
    "            im = F.interpolate(im, size=(im_rh, im_rw), mode='nearest')\n",
    "        else:\n",
    "            im = F.interpolate(im, size=(im_rh, im_rw), mode='area')\n",
    "        return im"
   ],
   "metadata": {
    "collapsed": false,
    "pycharm": {
     "name": "#%%\n"
    }
   }
  },
  {
   "cell_type": "code",
   "execution_count": 6,
   "outputs": [],
   "source": [
    "transformer = transforms.Compose(\n",
    "        [\n",
    "            transforms.ToTensor(),\n",
    "            transforms.Normalize((0.5), (0.5)\n",
    "            )\n",
    "        ]\n",
    "    )\n",
    "data = ModNetDataLoader(data_csv, 512, transform=transformer)"
   ],
   "metadata": {
    "collapsed": false,
    "pycharm": {
     "name": "#%%\n"
    }
   }
  },
  {
   "cell_type": "code",
   "execution_count": 7,
   "outputs": [
    {
     "name": "stdout",
     "output_type": "stream",
     "text": [
      "Image shape: torch.Size([3, 672, 512])\n",
      "Trimap shape: torch.Size([1, 672, 512])\n",
      "Matte shape: torch.Size([1, 672, 512])\n"
     ]
    }
   ],
   "source": [
    "img, trimap, mask = data[4]\n",
    "# 打印图像、matte 和 trimap 的形状\n",
    "print(\"Image shape:\", img.shape)\n",
    "print(\"Trimap shape:\", trimap.shape)\n",
    "print(\"Matte shape:\", mask.shape)"
   ],
   "metadata": {
    "collapsed": false,
    "pycharm": {
     "name": "#%%\n"
    }
   }
  },
  {
   "cell_type": "code",
   "execution_count": 130,
   "outputs": [
    {
     "name": "stdout",
     "output_type": "stream",
     "text": [
      "Image shape: torch.Size([3, 512, 512])\n",
      "Trimap shape: torch.Size([1, 576, 256])\n",
      "Matte shape: torch.Size([1, 512, 512])\n"
     ]
    }
   ],
   "source": [
    "img, trimap, mask = torch_trainset[4]\n",
    "# 打印图像、matte 和 trimap 的形状\n",
    "print(\"Image shape:\", img.shape)\n",
    "print(\"Trimap shape:\", trimap.shape)\n",
    "print(\"Matte shape:\", mask.shape)"
   ],
   "metadata": {
    "collapsed": false,
    "pycharm": {
     "name": "#%%\n"
    }
   }
  },
  {
   "cell_type": "code",
   "execution_count": null,
   "outputs": [],
   "source": [
    "# 展示图像\n",
    "def img_transpose(img):\n",
    "    return img.numpy().transpose(2,1,0).transpose(1,0,2)\n",
    "\n",
    "img_t = img_transpose(img)\n",
    "trimap_t = img_transpose(trimap)\n",
    "mask_t = img_transpose(mask)\n",
    "\n",
    "cv2plt(img_t)\n",
    "cv2plt(trimap_t)\n",
    "cv2plt(mask_t)"
   ],
   "metadata": {
    "collapsed": false,
    "pycharm": {
     "name": "#%%\n",
     "is_executing": true
    }
   }
  },
  {
   "cell_type": "code",
   "execution_count": 131,
   "outputs": [
    {
     "name": "stdout",
     "output_type": "stream",
     "text": [
      "Epoch 1 Training: \n"
     ]
    },
    {
     "name": "stderr",
     "output_type": "stream",
     "text": [
      "  0%|          | 0/99 [00:00<?, ?it/s]\n"
     ]
    },
    {
     "ename": "RuntimeError",
     "evalue": "stack expects each tensor to be equal size, but got [1, 928, 512] at entry 0 and [1, 544, 512] at entry 1",
     "output_type": "error",
     "traceback": [
      "\u001B[1;31m---------------------------------------------------------------------------\u001B[0m",
      "\u001B[1;31mRuntimeError\u001B[0m                              Traceback (most recent call last)",
      "\u001B[1;32m~\\AppData\\Local\\Temp\\ipykernel_13148\\2745398552.py\u001B[0m in \u001B[0;36m<module>\u001B[1;34m\u001B[0m\n\u001B[0;32m     20\u001B[0m \u001B[1;33m\u001B[0m\u001B[0m\n\u001B[0;32m     21\u001B[0m     \u001B[0mtrain_dataloader_progress\u001B[0m \u001B[1;33m=\u001B[0m \u001B[0mtqdm\u001B[0m\u001B[1;33m(\u001B[0m\u001B[0menumerate\u001B[0m\u001B[1;33m(\u001B[0m\u001B[0mtrain_dataloader\u001B[0m\u001B[1;33m)\u001B[0m\u001B[1;33m,\u001B[0m \u001B[0mtotal\u001B[0m\u001B[1;33m=\u001B[0m\u001B[0mlen\u001B[0m\u001B[1;33m(\u001B[0m\u001B[0mtrain_dataloader\u001B[0m\u001B[1;33m)\u001B[0m\u001B[1;33m)\u001B[0m\u001B[1;33m\u001B[0m\u001B[1;33m\u001B[0m\u001B[0m\n\u001B[1;32m---> 22\u001B[1;33m     \u001B[1;32mfor\u001B[0m \u001B[0midx\u001B[0m\u001B[1;33m,\u001B[0m \u001B[1;33m(\u001B[0m\u001B[0mimage\u001B[0m\u001B[1;33m,\u001B[0m \u001B[0mtrimap\u001B[0m\u001B[1;33m,\u001B[0m \u001B[0mgt_matte\u001B[0m\u001B[1;33m)\u001B[0m \u001B[1;32min\u001B[0m \u001B[0mtrain_dataloader_progress\u001B[0m\u001B[1;33m:\u001B[0m\u001B[1;33m\u001B[0m\u001B[1;33m\u001B[0m\u001B[0m\n\u001B[0m\u001B[0;32m     23\u001B[0m         \u001B[0msemantic_loss\u001B[0m\u001B[1;33m,\u001B[0m \u001B[0mdetail_loss\u001B[0m\u001B[1;33m,\u001B[0m \u001B[0mmatte_loss\u001B[0m \u001B[1;33m=\u001B[0m\u001B[0;31m \u001B[0m\u001B[0;31m\\\u001B[0m\u001B[1;33m\u001B[0m\u001B[1;33m\u001B[0m\u001B[0m\n\u001B[0;32m     24\u001B[0m             \u001B[0msupervised_training_iter\u001B[0m\u001B[1;33m(\u001B[0m\u001B[0mmodnet\u001B[0m\u001B[1;33m,\u001B[0m \u001B[0moptimizer\u001B[0m\u001B[1;33m,\u001B[0m \u001B[0mimage\u001B[0m\u001B[1;33m.\u001B[0m\u001B[0mcuda\u001B[0m\u001B[1;33m(\u001B[0m\u001B[1;33m)\u001B[0m\u001B[1;33m,\u001B[0m \u001B[0mtrimap\u001B[0m\u001B[1;33m.\u001B[0m\u001B[0mcuda\u001B[0m\u001B[1;33m(\u001B[0m\u001B[1;33m)\u001B[0m\u001B[1;33m,\u001B[0m \u001B[0mgt_matte\u001B[0m\u001B[1;33m.\u001B[0m\u001B[0mcuda\u001B[0m\u001B[1;33m(\u001B[0m\u001B[1;33m)\u001B[0m\u001B[1;33m)\u001B[0m\u001B[1;33m\u001B[0m\u001B[1;33m\u001B[0m\u001B[0m\n",
      "\u001B[1;32m~\\anaconda3\\envs\\MODNet\\lib\\site-packages\\tqdm\\std.py\u001B[0m in \u001B[0;36m__iter__\u001B[1;34m(self)\u001B[0m\n\u001B[0;32m   1176\u001B[0m \u001B[1;33m\u001B[0m\u001B[0m\n\u001B[0;32m   1177\u001B[0m         \u001B[1;32mtry\u001B[0m\u001B[1;33m:\u001B[0m\u001B[1;33m\u001B[0m\u001B[1;33m\u001B[0m\u001B[0m\n\u001B[1;32m-> 1178\u001B[1;33m             \u001B[1;32mfor\u001B[0m \u001B[0mobj\u001B[0m \u001B[1;32min\u001B[0m \u001B[0miterable\u001B[0m\u001B[1;33m:\u001B[0m\u001B[1;33m\u001B[0m\u001B[1;33m\u001B[0m\u001B[0m\n\u001B[0m\u001B[0;32m   1179\u001B[0m                 \u001B[1;32myield\u001B[0m \u001B[0mobj\u001B[0m\u001B[1;33m\u001B[0m\u001B[1;33m\u001B[0m\u001B[0m\n\u001B[0;32m   1180\u001B[0m                 \u001B[1;31m# Update and possibly print the progressbar.\u001B[0m\u001B[1;33m\u001B[0m\u001B[1;33m\u001B[0m\u001B[1;33m\u001B[0m\u001B[0m\n",
      "\u001B[1;32m~\\anaconda3\\envs\\MODNet\\lib\\site-packages\\torch\\utils\\data\\dataloader.py\u001B[0m in \u001B[0;36m__next__\u001B[1;34m(self)\u001B[0m\n\u001B[0;32m    626\u001B[0m                 \u001B[1;31m# TODO(https://github.com/pytorch/pytorch/issues/76750)\u001B[0m\u001B[1;33m\u001B[0m\u001B[1;33m\u001B[0m\u001B[1;33m\u001B[0m\u001B[0m\n\u001B[0;32m    627\u001B[0m                 \u001B[0mself\u001B[0m\u001B[1;33m.\u001B[0m\u001B[0m_reset\u001B[0m\u001B[1;33m(\u001B[0m\u001B[1;33m)\u001B[0m  \u001B[1;31m# type: ignore[call-arg]\u001B[0m\u001B[1;33m\u001B[0m\u001B[1;33m\u001B[0m\u001B[0m\n\u001B[1;32m--> 628\u001B[1;33m             \u001B[0mdata\u001B[0m \u001B[1;33m=\u001B[0m \u001B[0mself\u001B[0m\u001B[1;33m.\u001B[0m\u001B[0m_next_data\u001B[0m\u001B[1;33m(\u001B[0m\u001B[1;33m)\u001B[0m\u001B[1;33m\u001B[0m\u001B[1;33m\u001B[0m\u001B[0m\n\u001B[0m\u001B[0;32m    629\u001B[0m             \u001B[0mself\u001B[0m\u001B[1;33m.\u001B[0m\u001B[0m_num_yielded\u001B[0m \u001B[1;33m+=\u001B[0m \u001B[1;36m1\u001B[0m\u001B[1;33m\u001B[0m\u001B[1;33m\u001B[0m\u001B[0m\n\u001B[0;32m    630\u001B[0m             \u001B[1;32mif\u001B[0m \u001B[0mself\u001B[0m\u001B[1;33m.\u001B[0m\u001B[0m_dataset_kind\u001B[0m \u001B[1;33m==\u001B[0m \u001B[0m_DatasetKind\u001B[0m\u001B[1;33m.\u001B[0m\u001B[0mIterable\u001B[0m \u001B[1;32mand\u001B[0m\u001B[0;31m \u001B[0m\u001B[0;31m\\\u001B[0m\u001B[1;33m\u001B[0m\u001B[1;33m\u001B[0m\u001B[0m\n",
      "\u001B[1;32m~\\anaconda3\\envs\\MODNet\\lib\\site-packages\\torch\\utils\\data\\dataloader.py\u001B[0m in \u001B[0;36m_next_data\u001B[1;34m(self)\u001B[0m\n\u001B[0;32m    669\u001B[0m     \u001B[1;32mdef\u001B[0m \u001B[0m_next_data\u001B[0m\u001B[1;33m(\u001B[0m\u001B[0mself\u001B[0m\u001B[1;33m)\u001B[0m\u001B[1;33m:\u001B[0m\u001B[1;33m\u001B[0m\u001B[1;33m\u001B[0m\u001B[0m\n\u001B[0;32m    670\u001B[0m         \u001B[0mindex\u001B[0m \u001B[1;33m=\u001B[0m \u001B[0mself\u001B[0m\u001B[1;33m.\u001B[0m\u001B[0m_next_index\u001B[0m\u001B[1;33m(\u001B[0m\u001B[1;33m)\u001B[0m  \u001B[1;31m# may raise StopIteration\u001B[0m\u001B[1;33m\u001B[0m\u001B[1;33m\u001B[0m\u001B[0m\n\u001B[1;32m--> 671\u001B[1;33m         \u001B[0mdata\u001B[0m \u001B[1;33m=\u001B[0m \u001B[0mself\u001B[0m\u001B[1;33m.\u001B[0m\u001B[0m_dataset_fetcher\u001B[0m\u001B[1;33m.\u001B[0m\u001B[0mfetch\u001B[0m\u001B[1;33m(\u001B[0m\u001B[0mindex\u001B[0m\u001B[1;33m)\u001B[0m  \u001B[1;31m# may raise StopIteration\u001B[0m\u001B[1;33m\u001B[0m\u001B[1;33m\u001B[0m\u001B[0m\n\u001B[0m\u001B[0;32m    672\u001B[0m         \u001B[1;32mif\u001B[0m \u001B[0mself\u001B[0m\u001B[1;33m.\u001B[0m\u001B[0m_pin_memory\u001B[0m\u001B[1;33m:\u001B[0m\u001B[1;33m\u001B[0m\u001B[1;33m\u001B[0m\u001B[0m\n\u001B[0;32m    673\u001B[0m             \u001B[0mdata\u001B[0m \u001B[1;33m=\u001B[0m \u001B[0m_utils\u001B[0m\u001B[1;33m.\u001B[0m\u001B[0mpin_memory\u001B[0m\u001B[1;33m.\u001B[0m\u001B[0mpin_memory\u001B[0m\u001B[1;33m(\u001B[0m\u001B[0mdata\u001B[0m\u001B[1;33m,\u001B[0m \u001B[0mself\u001B[0m\u001B[1;33m.\u001B[0m\u001B[0m_pin_memory_device\u001B[0m\u001B[1;33m)\u001B[0m\u001B[1;33m\u001B[0m\u001B[1;33m\u001B[0m\u001B[0m\n",
      "\u001B[1;32m~\\anaconda3\\envs\\MODNet\\lib\\site-packages\\torch\\utils\\data\\_utils\\fetch.py\u001B[0m in \u001B[0;36mfetch\u001B[1;34m(self, possibly_batched_index)\u001B[0m\n\u001B[0;32m     59\u001B[0m         \u001B[1;32melse\u001B[0m\u001B[1;33m:\u001B[0m\u001B[1;33m\u001B[0m\u001B[1;33m\u001B[0m\u001B[0m\n\u001B[0;32m     60\u001B[0m             \u001B[0mdata\u001B[0m \u001B[1;33m=\u001B[0m \u001B[0mself\u001B[0m\u001B[1;33m.\u001B[0m\u001B[0mdataset\u001B[0m\u001B[1;33m[\u001B[0m\u001B[0mpossibly_batched_index\u001B[0m\u001B[1;33m]\u001B[0m\u001B[1;33m\u001B[0m\u001B[1;33m\u001B[0m\u001B[0m\n\u001B[1;32m---> 61\u001B[1;33m         \u001B[1;32mreturn\u001B[0m \u001B[0mself\u001B[0m\u001B[1;33m.\u001B[0m\u001B[0mcollate_fn\u001B[0m\u001B[1;33m(\u001B[0m\u001B[0mdata\u001B[0m\u001B[1;33m)\u001B[0m\u001B[1;33m\u001B[0m\u001B[1;33m\u001B[0m\u001B[0m\n\u001B[0m",
      "\u001B[1;32m~\\anaconda3\\envs\\MODNet\\lib\\site-packages\\torch\\utils\\data\\_utils\\collate.py\u001B[0m in \u001B[0;36mdefault_collate\u001B[1;34m(batch)\u001B[0m\n\u001B[0;32m    263\u001B[0m             \u001B[1;33m>>\u001B[0m\u001B[1;33m>\u001B[0m \u001B[0mdefault_collate\u001B[0m\u001B[1;33m(\u001B[0m\u001B[0mbatch\u001B[0m\u001B[1;33m)\u001B[0m  \u001B[1;31m# Handle `CustomType` automatically\u001B[0m\u001B[1;33m\u001B[0m\u001B[1;33m\u001B[0m\u001B[0m\n\u001B[0;32m    264\u001B[0m     \"\"\"\n\u001B[1;32m--> 265\u001B[1;33m     \u001B[1;32mreturn\u001B[0m \u001B[0mcollate\u001B[0m\u001B[1;33m(\u001B[0m\u001B[0mbatch\u001B[0m\u001B[1;33m,\u001B[0m \u001B[0mcollate_fn_map\u001B[0m\u001B[1;33m=\u001B[0m\u001B[0mdefault_collate_fn_map\u001B[0m\u001B[1;33m)\u001B[0m\u001B[1;33m\u001B[0m\u001B[1;33m\u001B[0m\u001B[0m\n\u001B[0m",
      "\u001B[1;32m~\\anaconda3\\envs\\MODNet\\lib\\site-packages\\torch\\utils\\data\\_utils\\collate.py\u001B[0m in \u001B[0;36mcollate\u001B[1;34m(batch, collate_fn_map)\u001B[0m\n\u001B[0;32m    141\u001B[0m \u001B[1;33m\u001B[0m\u001B[0m\n\u001B[0;32m    142\u001B[0m         \u001B[1;32mif\u001B[0m \u001B[0misinstance\u001B[0m\u001B[1;33m(\u001B[0m\u001B[0melem\u001B[0m\u001B[1;33m,\u001B[0m \u001B[0mtuple\u001B[0m\u001B[1;33m)\u001B[0m\u001B[1;33m:\u001B[0m\u001B[1;33m\u001B[0m\u001B[1;33m\u001B[0m\u001B[0m\n\u001B[1;32m--> 143\u001B[1;33m             \u001B[1;32mreturn\u001B[0m \u001B[1;33m[\u001B[0m\u001B[0mcollate\u001B[0m\u001B[1;33m(\u001B[0m\u001B[0msamples\u001B[0m\u001B[1;33m,\u001B[0m \u001B[0mcollate_fn_map\u001B[0m\u001B[1;33m=\u001B[0m\u001B[0mcollate_fn_map\u001B[0m\u001B[1;33m)\u001B[0m \u001B[1;32mfor\u001B[0m \u001B[0msamples\u001B[0m \u001B[1;32min\u001B[0m \u001B[0mtransposed\u001B[0m\u001B[1;33m]\u001B[0m  \u001B[1;31m# Backwards compatibility.\u001B[0m\u001B[1;33m\u001B[0m\u001B[1;33m\u001B[0m\u001B[0m\n\u001B[0m\u001B[0;32m    144\u001B[0m         \u001B[1;32melse\u001B[0m\u001B[1;33m:\u001B[0m\u001B[1;33m\u001B[0m\u001B[1;33m\u001B[0m\u001B[0m\n\u001B[0;32m    145\u001B[0m             \u001B[1;32mtry\u001B[0m\u001B[1;33m:\u001B[0m\u001B[1;33m\u001B[0m\u001B[1;33m\u001B[0m\u001B[0m\n",
      "\u001B[1;32m~\\anaconda3\\envs\\MODNet\\lib\\site-packages\\torch\\utils\\data\\_utils\\collate.py\u001B[0m in \u001B[0;36m<listcomp>\u001B[1;34m(.0)\u001B[0m\n\u001B[0;32m    141\u001B[0m \u001B[1;33m\u001B[0m\u001B[0m\n\u001B[0;32m    142\u001B[0m         \u001B[1;32mif\u001B[0m \u001B[0misinstance\u001B[0m\u001B[1;33m(\u001B[0m\u001B[0melem\u001B[0m\u001B[1;33m,\u001B[0m \u001B[0mtuple\u001B[0m\u001B[1;33m)\u001B[0m\u001B[1;33m:\u001B[0m\u001B[1;33m\u001B[0m\u001B[1;33m\u001B[0m\u001B[0m\n\u001B[1;32m--> 143\u001B[1;33m             \u001B[1;32mreturn\u001B[0m \u001B[1;33m[\u001B[0m\u001B[0mcollate\u001B[0m\u001B[1;33m(\u001B[0m\u001B[0msamples\u001B[0m\u001B[1;33m,\u001B[0m \u001B[0mcollate_fn_map\u001B[0m\u001B[1;33m=\u001B[0m\u001B[0mcollate_fn_map\u001B[0m\u001B[1;33m)\u001B[0m \u001B[1;32mfor\u001B[0m \u001B[0msamples\u001B[0m \u001B[1;32min\u001B[0m \u001B[0mtransposed\u001B[0m\u001B[1;33m]\u001B[0m  \u001B[1;31m# Backwards compatibility.\u001B[0m\u001B[1;33m\u001B[0m\u001B[1;33m\u001B[0m\u001B[0m\n\u001B[0m\u001B[0;32m    144\u001B[0m         \u001B[1;32melse\u001B[0m\u001B[1;33m:\u001B[0m\u001B[1;33m\u001B[0m\u001B[1;33m\u001B[0m\u001B[0m\n\u001B[0;32m    145\u001B[0m             \u001B[1;32mtry\u001B[0m\u001B[1;33m:\u001B[0m\u001B[1;33m\u001B[0m\u001B[1;33m\u001B[0m\u001B[0m\n",
      "\u001B[1;32m~\\anaconda3\\envs\\MODNet\\lib\\site-packages\\torch\\utils\\data\\_utils\\collate.py\u001B[0m in \u001B[0;36mcollate\u001B[1;34m(batch, collate_fn_map)\u001B[0m\n\u001B[0;32m    118\u001B[0m     \u001B[1;32mif\u001B[0m \u001B[0mcollate_fn_map\u001B[0m \u001B[1;32mis\u001B[0m \u001B[1;32mnot\u001B[0m \u001B[1;32mNone\u001B[0m\u001B[1;33m:\u001B[0m\u001B[1;33m\u001B[0m\u001B[1;33m\u001B[0m\u001B[0m\n\u001B[0;32m    119\u001B[0m         \u001B[1;32mif\u001B[0m \u001B[0melem_type\u001B[0m \u001B[1;32min\u001B[0m \u001B[0mcollate_fn_map\u001B[0m\u001B[1;33m:\u001B[0m\u001B[1;33m\u001B[0m\u001B[1;33m\u001B[0m\u001B[0m\n\u001B[1;32m--> 120\u001B[1;33m             \u001B[1;32mreturn\u001B[0m \u001B[0mcollate_fn_map\u001B[0m\u001B[1;33m[\u001B[0m\u001B[0melem_type\u001B[0m\u001B[1;33m]\u001B[0m\u001B[1;33m(\u001B[0m\u001B[0mbatch\u001B[0m\u001B[1;33m,\u001B[0m \u001B[0mcollate_fn_map\u001B[0m\u001B[1;33m=\u001B[0m\u001B[0mcollate_fn_map\u001B[0m\u001B[1;33m)\u001B[0m\u001B[1;33m\u001B[0m\u001B[1;33m\u001B[0m\u001B[0m\n\u001B[0m\u001B[0;32m    121\u001B[0m \u001B[1;33m\u001B[0m\u001B[0m\n\u001B[0;32m    122\u001B[0m         \u001B[1;32mfor\u001B[0m \u001B[0mcollate_type\u001B[0m \u001B[1;32min\u001B[0m \u001B[0mcollate_fn_map\u001B[0m\u001B[1;33m:\u001B[0m\u001B[1;33m\u001B[0m\u001B[1;33m\u001B[0m\u001B[0m\n",
      "\u001B[1;32m~\\anaconda3\\envs\\MODNet\\lib\\site-packages\\torch\\utils\\data\\_utils\\collate.py\u001B[0m in \u001B[0;36mcollate_tensor_fn\u001B[1;34m(batch, collate_fn_map)\u001B[0m\n\u001B[0;32m    161\u001B[0m         \u001B[0mstorage\u001B[0m \u001B[1;33m=\u001B[0m \u001B[0melem\u001B[0m\u001B[1;33m.\u001B[0m\u001B[0mstorage\u001B[0m\u001B[1;33m(\u001B[0m\u001B[1;33m)\u001B[0m\u001B[1;33m.\u001B[0m\u001B[0m_new_shared\u001B[0m\u001B[1;33m(\u001B[0m\u001B[0mnumel\u001B[0m\u001B[1;33m,\u001B[0m \u001B[0mdevice\u001B[0m\u001B[1;33m=\u001B[0m\u001B[0melem\u001B[0m\u001B[1;33m.\u001B[0m\u001B[0mdevice\u001B[0m\u001B[1;33m)\u001B[0m\u001B[1;33m\u001B[0m\u001B[1;33m\u001B[0m\u001B[0m\n\u001B[0;32m    162\u001B[0m         \u001B[0mout\u001B[0m \u001B[1;33m=\u001B[0m \u001B[0melem\u001B[0m\u001B[1;33m.\u001B[0m\u001B[0mnew\u001B[0m\u001B[1;33m(\u001B[0m\u001B[0mstorage\u001B[0m\u001B[1;33m)\u001B[0m\u001B[1;33m.\u001B[0m\u001B[0mresize_\u001B[0m\u001B[1;33m(\u001B[0m\u001B[0mlen\u001B[0m\u001B[1;33m(\u001B[0m\u001B[0mbatch\u001B[0m\u001B[1;33m)\u001B[0m\u001B[1;33m,\u001B[0m \u001B[1;33m*\u001B[0m\u001B[0mlist\u001B[0m\u001B[1;33m(\u001B[0m\u001B[0melem\u001B[0m\u001B[1;33m.\u001B[0m\u001B[0msize\u001B[0m\u001B[1;33m(\u001B[0m\u001B[1;33m)\u001B[0m\u001B[1;33m)\u001B[0m\u001B[1;33m)\u001B[0m\u001B[1;33m\u001B[0m\u001B[1;33m\u001B[0m\u001B[0m\n\u001B[1;32m--> 163\u001B[1;33m     \u001B[1;32mreturn\u001B[0m \u001B[0mtorch\u001B[0m\u001B[1;33m.\u001B[0m\u001B[0mstack\u001B[0m\u001B[1;33m(\u001B[0m\u001B[0mbatch\u001B[0m\u001B[1;33m,\u001B[0m \u001B[1;36m0\u001B[0m\u001B[1;33m,\u001B[0m \u001B[0mout\u001B[0m\u001B[1;33m=\u001B[0m\u001B[0mout\u001B[0m\u001B[1;33m)\u001B[0m\u001B[1;33m\u001B[0m\u001B[1;33m\u001B[0m\u001B[0m\n\u001B[0m\u001B[0;32m    164\u001B[0m \u001B[1;33m\u001B[0m\u001B[0m\n\u001B[0;32m    165\u001B[0m \u001B[1;33m\u001B[0m\u001B[0m\n",
      "\u001B[1;31mRuntimeError\u001B[0m: stack expects each tensor to be equal size, but got [1, 928, 512] at entry 0 and [1, 544, 512] at entry 1"
     ]
    }
   ],
   "source": [
    "# 训练加载器\n",
    "# train_dataloader = DataLoader(data, batch_size=2, shuffle=True)\n",
    "train_dataloader = DataLoader(torch_trainset, batch_size=2, shuffle=True)\n",
    "bs = 2  # batch size\n",
    "lr = 0.01  # learn rate\n",
    "epochs = 1  # total epochs\n",
    "step_size = 10  # 学习率将在每 10 个 epoch 之后衰减，epochs < 4 用这行\n",
    "# step_size=int(0.25 * epochs) # epochs >= 4 用这行\n",
    "\n",
    "# modnet = torch.nn.DataParallel(MODNet()).cuda()\n",
    "modnet = torch.nn.DataParallel(MODNet(backbone_pretrained=True)).cuda()\n",
    "optimizer = torch.optim.SGD(modnet.parameters(), lr=lr, momentum=0.9)\n",
    "lr_scheduler = torch.optim.lr_scheduler.StepLR(optimizer, step_size=step_size, gamma=0.1)\n",
    "\n",
    "for epoch in range(0, epochs):\n",
    "    print(f\"Epoch {epoch + 1} Training: \")\n",
    "    start_time = time.time()\n",
    "    total_loss = 0\n",
    "    batch_count = 0\n",
    "\n",
    "    train_dataloader_progress = tqdm(enumerate(train_dataloader), total=len(train_dataloader))\n",
    "    for idx, (image, trimap, gt_matte) in train_dataloader_progress:\n",
    "        semantic_loss, detail_loss, matte_loss = \\\n",
    "            supervised_training_iter(modnet, optimizer, image.cuda(), trimap.cuda(), gt_matte.cuda())\n",
    "        total_loss += semantic_loss + detail_loss + matte_loss\n",
    "        batch_count += 1\n",
    "\n",
    "        # 更新进度条信息\n",
    "        train_dataloader_progress.set_description(\n",
    "            f\"Batch {idx + 1}: Semantic Loss {semantic_loss:.4f}, Detail Loss {detail_loss:.4f}, Matte Loss {matte_loss:.4f}\")\n",
    "\n",
    "    end_time = time.time()\n",
    "    avg_loss = total_loss / batch_count\n",
    "    print(f\"Epoch {epoch + 1}/{epochs}, Avg Loss: {avg_loss:.4f}, Time: {end_time - start_time:.2f}s\")\n",
    "    lr_scheduler.step()\n",
    "\n",
    "torch.save(modnet.state_dict(), \"pretrained/my_train/modnet.ckpt\")"
   ],
   "metadata": {
    "collapsed": false,
    "pycharm": {
     "name": "#%%\n"
    }
   }
  },
  {
   "cell_type": "code",
   "execution_count": null,
   "outputs": [],
   "source": [],
   "metadata": {
    "collapsed": false,
    "pycharm": {
     "name": "#%%\n"
    }
   }
  }
 ],
 "metadata": {
  "kernelspec": {
   "display_name": "Python 3",
   "language": "python",
   "name": "python3"
  },
  "language_info": {
   "codemirror_mode": {
    "name": "ipython",
    "version": 2
   },
   "file_extension": ".py",
   "mimetype": "text/x-python",
   "name": "python",
   "nbconvert_exporter": "python",
   "pygments_lexer": "ipython2",
   "version": "2.7.6"
  }
 },
 "nbformat": 4,
 "nbformat_minor": 0
}