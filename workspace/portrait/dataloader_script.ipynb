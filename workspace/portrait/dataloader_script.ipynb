{
 "cells": [
  {
   "cell_type": "code",
   "execution_count": 1,
   "metadata": {
    "collapsed": true
   },
   "outputs": [],
   "source": [
    "import os\n",
    "import numpy as np\n",
    "import pandas as pd"
   ]
  },
  {
   "cell_type": "code",
   "execution_count": 2,
   "metadata": {
    "collapsed": false
   },
   "outputs": [],
   "source": [
    "os.chdir(\"../..\")\n",
    "# print(\"当前路径：\" + os.getcwd())\n",
    "# dataset_path = os.path.abspath(\"../datasets/mini-dataset\")\n",
    "ckpt_path = \"pretrained/modnet_photographic_portrait_matting.ckpt\""
   ]
  },
  {
   "cell_type": "code",
   "execution_count": 3,
   "outputs": [],
   "source": [
    "# 读取数据集图片\n",
    "dataset_path = \"../datasets/mini-dataset\"\n",
    "data_csv = pd.DataFrame(columns=[\"images\", \"matte\"])\n",
    "image_dir = os.path.abspath(dataset_path)\n",
    "image_list = list()\n",
    "for folder in os.listdir(image_dir):\n",
    "#     if folder==\".DS_Store\":\n",
    "#     continue\n",
    "    for img in os.listdir(os.path.join(image_dir, folder)):\n",
    "#             print(img)\n",
    "        image = os.path.join(image_dir, folder, img)\n",
    "        image_list.append(image)\n",
    "\n",
    "data_csv[\"images\"]=image_list\n",
    "data_csv[\"matte\"] = data_csv[\"images\"]\n",
    "data_csv[\"matte\"] = data_csv[\"matte\"].str.replace(\"jpg\", \"png\").str.replace(\"image\", \"matting\")"
   ],
   "metadata": {
    "collapsed": false
   }
  },
  {
   "cell_type": "code",
   "execution_count": 4,
   "outputs": [
    {
     "data": {
      "text/plain": "                                           images  \\\n0   ../datasets/mini-dataset\\image\\p_00a4eda7.jpg   \n1   ../datasets/mini-dataset\\image\\p_00a5b702.jpg   \n2   ../datasets/mini-dataset\\image\\p_00a632ae.jpg   \n3   ../datasets/mini-dataset\\image\\p_00a7a27c.jpg   \n4   ../datasets/mini-dataset\\image\\p_00ac604b.jpg   \n5   ../datasets/mini-dataset\\image\\p_00b99817.jpg   \n6   ../datasets/mini-dataset\\image\\p_00bd76ad.jpg   \n7   ../datasets/mini-dataset\\image\\p_00c4440a.jpg   \n8   ../datasets/mini-dataset\\image\\p_00cc4603.jpg   \n9   ../datasets/mini-dataset\\image\\p_00d003ec.jpg   \n10  ../datasets/mini-dataset\\image\\p_00e42271.jpg   \n11  ../datasets/mini-dataset\\image\\p_00e89818.jpg   \n12  ../datasets/mini-dataset\\image\\p_00e8d0f4.jpg   \n13  ../datasets/mini-dataset\\image\\p_00fad790.jpg   \n14  ../datasets/mini-dataset\\image\\p_00fcb4a1.jpg   \n15  ../datasets/mini-dataset\\image\\p_00ff150e.jpg   \n16  ../datasets/mini-dataset\\image\\p_0a06bf81.jpg   \n17  ../datasets/mini-dataset\\image\\p_0a0c9250.jpg   \n18  ../datasets/mini-dataset\\image\\p_0a0da941.jpg   \n19  ../datasets/mini-dataset\\image\\p_0a0f1c2b.jpg   \n20  ../datasets/mini-dataset\\image\\p_0a1ca7c4.jpg   \n21  ../datasets/mini-dataset\\image\\p_0a2c1d2c.jpg   \n22  ../datasets/mini-dataset\\image\\p_0a5ab3fb.jpg   \n23  ../datasets/mini-dataset\\image\\p_0a5e6092.jpg   \n24  ../datasets/mini-dataset\\matte\\p_00a4eda7.png   \n25  ../datasets/mini-dataset\\matte\\p_00a5b702.png   \n26  ../datasets/mini-dataset\\matte\\p_00a632ae.png   \n27  ../datasets/mini-dataset\\matte\\p_00a7a27c.png   \n28  ../datasets/mini-dataset\\matte\\p_00ac604b.png   \n29  ../datasets/mini-dataset\\matte\\p_00b99817.png   \n30  ../datasets/mini-dataset\\matte\\p_00bd76ad.png   \n31  ../datasets/mini-dataset\\matte\\p_00c4440a.png   \n32  ../datasets/mini-dataset\\matte\\p_00cc4603.png   \n33  ../datasets/mini-dataset\\matte\\p_00d003ec.png   \n34  ../datasets/mini-dataset\\matte\\p_00e42271.png   \n35  ../datasets/mini-dataset\\matte\\p_00e89818.png   \n36  ../datasets/mini-dataset\\matte\\p_00e8d0f4.png   \n37  ../datasets/mini-dataset\\matte\\p_00fad790.png   \n38  ../datasets/mini-dataset\\matte\\p_00fcb4a1.png   \n39  ../datasets/mini-dataset\\matte\\p_00ff150e.png   \n40  ../datasets/mini-dataset\\matte\\p_0a06bf81.png   \n41  ../datasets/mini-dataset\\matte\\p_0a0c9250.png   \n42  ../datasets/mini-dataset\\matte\\p_0a0da941.png   \n43  ../datasets/mini-dataset\\matte\\p_0a0f1c2b.png   \n44  ../datasets/mini-dataset\\matte\\p_0a1ca7c4.png   \n45  ../datasets/mini-dataset\\matte\\p_0a2c1d2c.png   \n46  ../datasets/mini-dataset\\matte\\p_0a5ab3fb.png   \n47  ../datasets/mini-dataset\\matte\\p_0a5e6092.png   \n\n                                              matte  \n0   ../datasets/mini-dataset\\matting\\p_00a4eda7.png  \n1   ../datasets/mini-dataset\\matting\\p_00a5b702.png  \n2   ../datasets/mini-dataset\\matting\\p_00a632ae.png  \n3   ../datasets/mini-dataset\\matting\\p_00a7a27c.png  \n4   ../datasets/mini-dataset\\matting\\p_00ac604b.png  \n5   ../datasets/mini-dataset\\matting\\p_00b99817.png  \n6   ../datasets/mini-dataset\\matting\\p_00bd76ad.png  \n7   ../datasets/mini-dataset\\matting\\p_00c4440a.png  \n8   ../datasets/mini-dataset\\matting\\p_00cc4603.png  \n9   ../datasets/mini-dataset\\matting\\p_00d003ec.png  \n10  ../datasets/mini-dataset\\matting\\p_00e42271.png  \n11  ../datasets/mini-dataset\\matting\\p_00e89818.png  \n12  ../datasets/mini-dataset\\matting\\p_00e8d0f4.png  \n13  ../datasets/mini-dataset\\matting\\p_00fad790.png  \n14  ../datasets/mini-dataset\\matting\\p_00fcb4a1.png  \n15  ../datasets/mini-dataset\\matting\\p_00ff150e.png  \n16  ../datasets/mini-dataset\\matting\\p_0a06bf81.png  \n17  ../datasets/mini-dataset\\matting\\p_0a0c9250.png  \n18  ../datasets/mini-dataset\\matting\\p_0a0da941.png  \n19  ../datasets/mini-dataset\\matting\\p_0a0f1c2b.png  \n20  ../datasets/mini-dataset\\matting\\p_0a1ca7c4.png  \n21  ../datasets/mini-dataset\\matting\\p_0a2c1d2c.png  \n22  ../datasets/mini-dataset\\matting\\p_0a5ab3fb.png  \n23  ../datasets/mini-dataset\\matting\\p_0a5e6092.png  \n24    ../datasets/mini-dataset\\matte\\p_00a4eda7.png  \n25    ../datasets/mini-dataset\\matte\\p_00a5b702.png  \n26    ../datasets/mini-dataset\\matte\\p_00a632ae.png  \n27    ../datasets/mini-dataset\\matte\\p_00a7a27c.png  \n28    ../datasets/mini-dataset\\matte\\p_00ac604b.png  \n29    ../datasets/mini-dataset\\matte\\p_00b99817.png  \n30    ../datasets/mini-dataset\\matte\\p_00bd76ad.png  \n31    ../datasets/mini-dataset\\matte\\p_00c4440a.png  \n32    ../datasets/mini-dataset\\matte\\p_00cc4603.png  \n33    ../datasets/mini-dataset\\matte\\p_00d003ec.png  \n34    ../datasets/mini-dataset\\matte\\p_00e42271.png  \n35    ../datasets/mini-dataset\\matte\\p_00e89818.png  \n36    ../datasets/mini-dataset\\matte\\p_00e8d0f4.png  \n37    ../datasets/mini-dataset\\matte\\p_00fad790.png  \n38    ../datasets/mini-dataset\\matte\\p_00fcb4a1.png  \n39    ../datasets/mini-dataset\\matte\\p_00ff150e.png  \n40    ../datasets/mini-dataset\\matte\\p_0a06bf81.png  \n41    ../datasets/mini-dataset\\matte\\p_0a0c9250.png  \n42    ../datasets/mini-dataset\\matte\\p_0a0da941.png  \n43    ../datasets/mini-dataset\\matte\\p_0a0f1c2b.png  \n44    ../datasets/mini-dataset\\matte\\p_0a1ca7c4.png  \n45    ../datasets/mini-dataset\\matte\\p_0a2c1d2c.png  \n46    ../datasets/mini-dataset\\matte\\p_0a5ab3fb.png  \n47    ../datasets/mini-dataset\\matte\\p_0a5e6092.png  ",
      "text/html": "<div>\n<style scoped>\n    .dataframe tbody tr th:only-of-type {\n        vertical-align: middle;\n    }\n\n    .dataframe tbody tr th {\n        vertical-align: top;\n    }\n\n    .dataframe thead th {\n        text-align: right;\n    }\n</style>\n<table border=\"1\" class=\"dataframe\">\n  <thead>\n    <tr style=\"text-align: right;\">\n      <th></th>\n      <th>images</th>\n      <th>matte</th>\n    </tr>\n  </thead>\n  <tbody>\n    <tr>\n      <th>0</th>\n      <td>../datasets/mini-dataset\\image\\p_00a4eda7.jpg</td>\n      <td>../datasets/mini-dataset\\matting\\p_00a4eda7.png</td>\n    </tr>\n    <tr>\n      <th>1</th>\n      <td>../datasets/mini-dataset\\image\\p_00a5b702.jpg</td>\n      <td>../datasets/mini-dataset\\matting\\p_00a5b702.png</td>\n    </tr>\n    <tr>\n      <th>2</th>\n      <td>../datasets/mini-dataset\\image\\p_00a632ae.jpg</td>\n      <td>../datasets/mini-dataset\\matting\\p_00a632ae.png</td>\n    </tr>\n    <tr>\n      <th>3</th>\n      <td>../datasets/mini-dataset\\image\\p_00a7a27c.jpg</td>\n      <td>../datasets/mini-dataset\\matting\\p_00a7a27c.png</td>\n    </tr>\n    <tr>\n      <th>4</th>\n      <td>../datasets/mini-dataset\\image\\p_00ac604b.jpg</td>\n      <td>../datasets/mini-dataset\\matting\\p_00ac604b.png</td>\n    </tr>\n    <tr>\n      <th>5</th>\n      <td>../datasets/mini-dataset\\image\\p_00b99817.jpg</td>\n      <td>../datasets/mini-dataset\\matting\\p_00b99817.png</td>\n    </tr>\n    <tr>\n      <th>6</th>\n      <td>../datasets/mini-dataset\\image\\p_00bd76ad.jpg</td>\n      <td>../datasets/mini-dataset\\matting\\p_00bd76ad.png</td>\n    </tr>\n    <tr>\n      <th>7</th>\n      <td>../datasets/mini-dataset\\image\\p_00c4440a.jpg</td>\n      <td>../datasets/mini-dataset\\matting\\p_00c4440a.png</td>\n    </tr>\n    <tr>\n      <th>8</th>\n      <td>../datasets/mini-dataset\\image\\p_00cc4603.jpg</td>\n      <td>../datasets/mini-dataset\\matting\\p_00cc4603.png</td>\n    </tr>\n    <tr>\n      <th>9</th>\n      <td>../datasets/mini-dataset\\image\\p_00d003ec.jpg</td>\n      <td>../datasets/mini-dataset\\matting\\p_00d003ec.png</td>\n    </tr>\n    <tr>\n      <th>10</th>\n      <td>../datasets/mini-dataset\\image\\p_00e42271.jpg</td>\n      <td>../datasets/mini-dataset\\matting\\p_00e42271.png</td>\n    </tr>\n    <tr>\n      <th>11</th>\n      <td>../datasets/mini-dataset\\image\\p_00e89818.jpg</td>\n      <td>../datasets/mini-dataset\\matting\\p_00e89818.png</td>\n    </tr>\n    <tr>\n      <th>12</th>\n      <td>../datasets/mini-dataset\\image\\p_00e8d0f4.jpg</td>\n      <td>../datasets/mini-dataset\\matting\\p_00e8d0f4.png</td>\n    </tr>\n    <tr>\n      <th>13</th>\n      <td>../datasets/mini-dataset\\image\\p_00fad790.jpg</td>\n      <td>../datasets/mini-dataset\\matting\\p_00fad790.png</td>\n    </tr>\n    <tr>\n      <th>14</th>\n      <td>../datasets/mini-dataset\\image\\p_00fcb4a1.jpg</td>\n      <td>../datasets/mini-dataset\\matting\\p_00fcb4a1.png</td>\n    </tr>\n    <tr>\n      <th>15</th>\n      <td>../datasets/mini-dataset\\image\\p_00ff150e.jpg</td>\n      <td>../datasets/mini-dataset\\matting\\p_00ff150e.png</td>\n    </tr>\n    <tr>\n      <th>16</th>\n      <td>../datasets/mini-dataset\\image\\p_0a06bf81.jpg</td>\n      <td>../datasets/mini-dataset\\matting\\p_0a06bf81.png</td>\n    </tr>\n    <tr>\n      <th>17</th>\n      <td>../datasets/mini-dataset\\image\\p_0a0c9250.jpg</td>\n      <td>../datasets/mini-dataset\\matting\\p_0a0c9250.png</td>\n    </tr>\n    <tr>\n      <th>18</th>\n      <td>../datasets/mini-dataset\\image\\p_0a0da941.jpg</td>\n      <td>../datasets/mini-dataset\\matting\\p_0a0da941.png</td>\n    </tr>\n    <tr>\n      <th>19</th>\n      <td>../datasets/mini-dataset\\image\\p_0a0f1c2b.jpg</td>\n      <td>../datasets/mini-dataset\\matting\\p_0a0f1c2b.png</td>\n    </tr>\n    <tr>\n      <th>20</th>\n      <td>../datasets/mini-dataset\\image\\p_0a1ca7c4.jpg</td>\n      <td>../datasets/mini-dataset\\matting\\p_0a1ca7c4.png</td>\n    </tr>\n    <tr>\n      <th>21</th>\n      <td>../datasets/mini-dataset\\image\\p_0a2c1d2c.jpg</td>\n      <td>../datasets/mini-dataset\\matting\\p_0a2c1d2c.png</td>\n    </tr>\n    <tr>\n      <th>22</th>\n      <td>../datasets/mini-dataset\\image\\p_0a5ab3fb.jpg</td>\n      <td>../datasets/mini-dataset\\matting\\p_0a5ab3fb.png</td>\n    </tr>\n    <tr>\n      <th>23</th>\n      <td>../datasets/mini-dataset\\image\\p_0a5e6092.jpg</td>\n      <td>../datasets/mini-dataset\\matting\\p_0a5e6092.png</td>\n    </tr>\n    <tr>\n      <th>24</th>\n      <td>../datasets/mini-dataset\\matte\\p_00a4eda7.png</td>\n      <td>../datasets/mini-dataset\\matte\\p_00a4eda7.png</td>\n    </tr>\n    <tr>\n      <th>25</th>\n      <td>../datasets/mini-dataset\\matte\\p_00a5b702.png</td>\n      <td>../datasets/mini-dataset\\matte\\p_00a5b702.png</td>\n    </tr>\n    <tr>\n      <th>26</th>\n      <td>../datasets/mini-dataset\\matte\\p_00a632ae.png</td>\n      <td>../datasets/mini-dataset\\matte\\p_00a632ae.png</td>\n    </tr>\n    <tr>\n      <th>27</th>\n      <td>../datasets/mini-dataset\\matte\\p_00a7a27c.png</td>\n      <td>../datasets/mini-dataset\\matte\\p_00a7a27c.png</td>\n    </tr>\n    <tr>\n      <th>28</th>\n      <td>../datasets/mini-dataset\\matte\\p_00ac604b.png</td>\n      <td>../datasets/mini-dataset\\matte\\p_00ac604b.png</td>\n    </tr>\n    <tr>\n      <th>29</th>\n      <td>../datasets/mini-dataset\\matte\\p_00b99817.png</td>\n      <td>../datasets/mini-dataset\\matte\\p_00b99817.png</td>\n    </tr>\n    <tr>\n      <th>30</th>\n      <td>../datasets/mini-dataset\\matte\\p_00bd76ad.png</td>\n      <td>../datasets/mini-dataset\\matte\\p_00bd76ad.png</td>\n    </tr>\n    <tr>\n      <th>31</th>\n      <td>../datasets/mini-dataset\\matte\\p_00c4440a.png</td>\n      <td>../datasets/mini-dataset\\matte\\p_00c4440a.png</td>\n    </tr>\n    <tr>\n      <th>32</th>\n      <td>../datasets/mini-dataset\\matte\\p_00cc4603.png</td>\n      <td>../datasets/mini-dataset\\matte\\p_00cc4603.png</td>\n    </tr>\n    <tr>\n      <th>33</th>\n      <td>../datasets/mini-dataset\\matte\\p_00d003ec.png</td>\n      <td>../datasets/mini-dataset\\matte\\p_00d003ec.png</td>\n    </tr>\n    <tr>\n      <th>34</th>\n      <td>../datasets/mini-dataset\\matte\\p_00e42271.png</td>\n      <td>../datasets/mini-dataset\\matte\\p_00e42271.png</td>\n    </tr>\n    <tr>\n      <th>35</th>\n      <td>../datasets/mini-dataset\\matte\\p_00e89818.png</td>\n      <td>../datasets/mini-dataset\\matte\\p_00e89818.png</td>\n    </tr>\n    <tr>\n      <th>36</th>\n      <td>../datasets/mini-dataset\\matte\\p_00e8d0f4.png</td>\n      <td>../datasets/mini-dataset\\matte\\p_00e8d0f4.png</td>\n    </tr>\n    <tr>\n      <th>37</th>\n      <td>../datasets/mini-dataset\\matte\\p_00fad790.png</td>\n      <td>../datasets/mini-dataset\\matte\\p_00fad790.png</td>\n    </tr>\n    <tr>\n      <th>38</th>\n      <td>../datasets/mini-dataset\\matte\\p_00fcb4a1.png</td>\n      <td>../datasets/mini-dataset\\matte\\p_00fcb4a1.png</td>\n    </tr>\n    <tr>\n      <th>39</th>\n      <td>../datasets/mini-dataset\\matte\\p_00ff150e.png</td>\n      <td>../datasets/mini-dataset\\matte\\p_00ff150e.png</td>\n    </tr>\n    <tr>\n      <th>40</th>\n      <td>../datasets/mini-dataset\\matte\\p_0a06bf81.png</td>\n      <td>../datasets/mini-dataset\\matte\\p_0a06bf81.png</td>\n    </tr>\n    <tr>\n      <th>41</th>\n      <td>../datasets/mini-dataset\\matte\\p_0a0c9250.png</td>\n      <td>../datasets/mini-dataset\\matte\\p_0a0c9250.png</td>\n    </tr>\n    <tr>\n      <th>42</th>\n      <td>../datasets/mini-dataset\\matte\\p_0a0da941.png</td>\n      <td>../datasets/mini-dataset\\matte\\p_0a0da941.png</td>\n    </tr>\n    <tr>\n      <th>43</th>\n      <td>../datasets/mini-dataset\\matte\\p_0a0f1c2b.png</td>\n      <td>../datasets/mini-dataset\\matte\\p_0a0f1c2b.png</td>\n    </tr>\n    <tr>\n      <th>44</th>\n      <td>../datasets/mini-dataset\\matte\\p_0a1ca7c4.png</td>\n      <td>../datasets/mini-dataset\\matte\\p_0a1ca7c4.png</td>\n    </tr>\n    <tr>\n      <th>45</th>\n      <td>../datasets/mini-dataset\\matte\\p_0a2c1d2c.png</td>\n      <td>../datasets/mini-dataset\\matte\\p_0a2c1d2c.png</td>\n    </tr>\n    <tr>\n      <th>46</th>\n      <td>../datasets/mini-dataset\\matte\\p_0a5ab3fb.png</td>\n      <td>../datasets/mini-dataset\\matte\\p_0a5ab3fb.png</td>\n    </tr>\n    <tr>\n      <th>47</th>\n      <td>../datasets/mini-dataset\\matte\\p_0a5e6092.png</td>\n      <td>../datasets/mini-dataset\\matte\\p_0a5e6092.png</td>\n    </tr>\n  </tbody>\n</table>\n</div>"
     },
     "execution_count": 4,
     "metadata": {},
     "output_type": "execute_result"
    }
   ],
   "source": [
    "data_csv"
   ],
   "metadata": {
    "collapsed": false
   }
  },
  {
   "cell_type": "markdown",
   "source": [
    "# 读取数据集图片：数据集加载结构很像matting_human_half\n",
    "data_csv = pd.DataFrame(columns=[\"images\", \"matte\"])\n",
    "image_dir = dataset_path\n",
    "image_list = list()\n",
    "for folder in os.listdir(image_dir):\n",
    "#     if folder==\".DS_Store\":\n",
    "#     continue\n",
    "    for clip in os.listdir(os.path.join(image_dir, folder)):\n",
    "#         if clip==\".DS_Store\":\n",
    "#             continue\n",
    "        for img in os.listdir(os.path.join(image_dir, folder, clip)):\n",
    "#             print(img)\n",
    "            image = os.path.join(image_dir, folder, clip, img)\n",
    "            image_list.append(image)\n",
    "\n",
    "data_csv[\"images\"]=image_list\n",
    "data_csv[\"matte\"] = data_csv[\"images\"]\n",
    "data_csv[\"matte\"] = data_csv[\"matte\"].str.replace(\"jpg\", \"png\").str.replace(\"clip_img\", \"matting\").str.replace(\"clip_\", \"matting_\")"
   ],
   "metadata": {
    "collapsed": false
   }
  },
  {
   "cell_type": "code",
   "execution_count": 4,
   "outputs": [],
   "source": [],
   "metadata": {
    "collapsed": false
   }
  },
  {
   "cell_type": "code",
   "execution_count": 5,
   "outputs": [
    {
     "data": {
      "text/plain": "'E:\\\\data\\\\workspace\\\\python\\\\wanxiang-ai\\\\datasets\\\\mini-dataset'"
     },
     "execution_count": 5,
     "metadata": {},
     "output_type": "execute_result"
    }
   ],
   "source": [],
   "metadata": {
    "collapsed": false
   }
  },
  {
   "cell_type": "code",
   "execution_count": null,
   "outputs": [],
   "source": [],
   "metadata": {
    "collapsed": false
   }
  }
 ],
 "metadata": {
  "kernelspec": {
   "display_name": "PyCharm (MODNet)",
   "language": "python",
   "name": "pycharm-39eaf666"
  },
  "language_info": {
   "codemirror_mode": {
    "name": "ipython",
    "version": 2
   },
   "file_extension": ".py",
   "mimetype": "text/x-python",
   "name": "python",
   "nbconvert_exporter": "python",
   "pygments_lexer": "ipython2",
   "version": "2.7.6"
  }
 },
 "nbformat": 4,
 "nbformat_minor": 0
}
