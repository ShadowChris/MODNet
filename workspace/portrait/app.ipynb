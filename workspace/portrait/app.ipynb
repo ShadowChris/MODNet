{
 "cells": [
  {
   "cell_type": "code",
   "execution_count": 1,
   "outputs": [],
   "source": [
    "# python -m demo.image_matting.colab.inference --input-path data/input --output-path data/mask --ckpt-path pretrained/modnet_photographic_portrait_matting.ckpt\n",
    "import cv2"
   ],
   "metadata": {
    "collapsed": false,
    "pycharm": {
     "name": "#%%\n"
    }
   }
  },
  {
   "cell_type": "code",
   "execution_count": 6,
   "outputs": [],
   "source": [
    "def cv2_imshow(image):\n",
    "    cv2.imshow(\"img\", image)\n",
    "    #  add below code\n",
    "    cv2.waitKey(0)\n",
    "    cv2.destroyAllWindows()\n"
   ],
   "metadata": {
    "collapsed": false,
    "pycharm": {
     "name": "#%%\n"
    }
   }
  },
  {
   "cell_type": "code",
   "execution_count": 4,
   "outputs": [],
   "source": [
    "# 用实际文件路径替换以下路径\n",
    "image_path = \"data/input/1.jpg\"\n",
    "mask_path = \"data/mask/1.png\"\n",
    "output_path = \"data/output/1.png\"\n",
    "\n",
    "# extract_foreground(image_path, mask_path, output_path)"
   ],
   "metadata": {
    "collapsed": false,
    "pycharm": {
     "name": "#%%\n"
    }
   }
  },
  {
   "cell_type": "code",
   "execution_count": 11,
   "outputs": [],
   "source": [
    "# 加载原图和mask\n",
    "image = cv2.imread(image_path)\n",
    "mask = cv2.imread(mask_path, cv2.IMREAD_GRAYSCALE)  # 确保mask为灰度图像\n",
    "# 检查图像是否正确加载\n",
    "cv2_imshow(image)\n",
    "cv2_imshow(mask)"
   ],
   "metadata": {
    "collapsed": false,
    "pycharm": {
     "name": "#%%\n"
    }
   }
  },
  {
   "cell_type": "code",
   "execution_count": 27,
   "outputs": [],
   "source": [
    "# 将mask二值化，前景区域设置为255，背景区域设置为0\n",
    "_, mask_binary = cv2.threshold(mask, 120, 255, cv2.THRESH_BINARY)\n",
    "cv2_imshow(mask_binary)"
   ],
   "metadata": {
    "collapsed": false,
    "pycharm": {
     "name": "#%%\n"
    }
   }
  },
  {
   "cell_type": "code",
   "execution_count": null,
   "outputs": [],
   "source": [
    "# 将mask扩展为3通道\n",
    "mask_3_channels = cv2.cvtColor(mask_binary, cv2.COLOR_GRAY2BGR)\n",
    "\n",
    "# 通过按位与操作将mask与原图结合以抠出前景\n",
    "foreground = cv2.bitwise_and(image, mask_3_channels)\n",
    "\n",
    "# 保存前景图像\n",
    "cv2.imwrite(output_path, foreground)\n",
    "cv2_imshow(foreground)"
   ],
   "metadata": {
    "collapsed": false,
    "pycharm": {
     "name": "#%%\n"
    }
   }
  },
  {
   "cell_type": "code",
   "execution_count": 8,
   "outputs": [],
   "source": [
    "cv2_imshow(foreground)\n"
   ],
   "metadata": {
    "collapsed": false,
    "pycharm": {
     "name": "#%%\n"
    }
   }
  },
  {
   "cell_type": "code",
   "execution_count": 9,
   "outputs": [],
   "source": [
    "cv2_imshow(image)"
   ],
   "metadata": {
    "collapsed": false,
    "pycharm": {
     "name": "#%%\n"
    }
   }
  },
  {
   "cell_type": "code",
   "execution_count": null,
   "outputs": [],
   "source": [],
   "metadata": {
    "collapsed": false,
    "pycharm": {
     "name": "#%%\n"
    }
   }
  },
  {
   "cell_type": "code",
   "execution_count": null,
   "outputs": [],
   "source": [
    "def extract_foreground(image_path, mask_path, output_path):\n",
    "    # 加载原图和mask\n",
    "    image = cv2.imread(image_path)\n",
    "    mask = cv2.imread(mask_path, cv2.IMREAD_GRAYSCALE)  # 确保mask为灰度图像\n",
    "     # 检查图像是否正确加载\n",
    "    if image is None:\n",
    "        print(f\"Error loading image: {image_path}\")\n",
    "        return\n",
    "    if mask is None:\n",
    "        print(f\"Error loading mask: {mask_path}\")\n",
    "        return\n",
    "\n",
    "    # 将mask二值化，前景区域设置为255，背景区域设置为0\n",
    "    _, mask_binary = cv2.threshold(mask, 128, 255, cv2.THRESH_BINARY)\n",
    "\n",
    "    # 将mask扩展为3通道\n",
    "    mask_3_channels = cv2.cvtColor(mask_binary, cv2.COLOR_GRAY2BGR)\n",
    "\n",
    "    # 通过按位与操作将mask与原图结合以抠出前景\n",
    "    foreground = cv2.bitwise_and(image, mask_3_channels)\n",
    "\n",
    "    # 保存前景图像\n",
    "    cv2.imwrite(output_path, foreground)\n",
    "    # cv2_imshow(foreground)"
   ],
   "metadata": {
    "collapsed": false,
    "pycharm": {
     "name": "#%%\n"
    }
   }
  }
 ],
 "metadata": {
  "kernelspec": {
   "name": "pycharm-39eaf666",
   "language": "python",
   "display_name": "PyCharm (MODNet)"
  },
  "language_info": {
   "codemirror_mode": {
    "name": "ipython",
    "version": 2
   },
   "file_extension": ".py",
   "mimetype": "text/x-python",
   "name": "python",
   "nbconvert_exporter": "python",
   "pygments_lexer": "ipython2",
   "version": "2.7.6"
  }
 },
 "nbformat": 4,
 "nbformat_minor": 0
}